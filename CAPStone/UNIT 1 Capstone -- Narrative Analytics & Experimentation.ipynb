{
 "cells": [
  {
   "cell_type": "markdown",
   "metadata": {},
   "source": [
    "# UNIT 1 Capstone -- Narrative Analytics & Experimentation"
   ]
  },
  {
   "cell_type": "markdown",
   "metadata": {},
   "source": [
    "This experimental analysis will look at the previous data set of \"Accidental Drug Related Deaths\" and delve deeper into which drugs causes the most deaths. The dataset we have gives details on numerous drugs but has the most columns depicting opioids. We can look further into this data and see which opioid causes the most accidental drug related deaths but for now we will set the differentiator as prescribed \"opioids\" and \"other narcotics\". The reasoning behind this is that the data can clearly show that opioids are clearly the main culprit; however, are they higher than the other narcotics combined?\n",
    "***\n",
    "\n",
    "__Hypothesis:__ I propose that opioids are the leading cause of accidental drug related deaths in America regarding other narcotics.\n",
    "\n",
    ">Before we start, lets gather a hypothesis. I believe that, at first look, the data will show that opioids are the biggest concern in America when it comes to \"Accidental Drug Related Deaths\" in comparison to other narcotics.\n",
    "\n",
    "__Outcome of Interest:__ I expect my data to change in the sense that opioids will still dominate any statistical analysis regarding \"Accidental Drug Related Deaths\" I believe that once we lump other narcotics, to include alcohol, that opioids will still \"outkill\" in relation to other narcotics.\n",
    "\n",
    "__Other Measured Variables:__ Due to no real access to measuring through an A/B test (ethical reasoning aside), we will have to rely on other variables that can be measured to determine the outcome of interest in relation to our hypothesis. What we can use is data gathered by governmental agencies to help us determine if our hypothesis is correct. The key metric we are looking for is \"death\" and which narcotic caused it.\n",
    "***\n",
    "\n",
    "__The Problem:__\n",
    "\n",
    "In America, there are two crises impacting our country negatively, which are deaths in relation to drugs and more specifically, opioids. It is my belief that opioids are a huge culprit for a multitude of reasons but that is not what we are looking into. We are looking to see if opioids are the number one cause of drug related deaths or if it’s the other narcotics combined. \n",
    "\n",
    "The data that we do have gives us details regarding gender, age, race, what narcotic they used, and finally how they passed on. Of all the data presented, the one specific we will not concern ourselves with is the specific cause of death, i.e. drowning in a hot tub. Although that data is helpful in some respects, it is irrelevant for what is needed for this analysis.  \n",
    "\n",
    "To determine if the hypothesis can be proven valid, the data must be analyzed and broken down for specifics. To do so, we must dig into the data to find inconsistencies such as null values and to remove information that is not relevant to our analysis. Cleaning the data is the first and most important step in determine if our hypothesis can be proven. Cleaning the data can consist of us removing null values, removing information that is erroneously labeled, and removing that data not needed.\n",
    "\n",
    "Once the data is cleaned and we are working with data that is ready to go, then we can proceed with answering any questions and to determine the accuracy of the hypothesis. Furthermore, when presented with questions that need specifics, we can dissect the data to find answers. The great thing about cleaning data is that once it is cleaned, it becomes easier to understand the data and to analyze it better.\n",
    "\n",
    "In this data, we can pull information regarding which gender is more likely to have an accidental drug related death along with the specifics of age and race. There is a plethora of information that can be derived from the data once it is cleaned. Using the cleaned data, we can use visual aids such as boxplots or bar charts to depict and explain our outcomes. As an example, a boxplot graph can lump specific (gender, ages, etc.) data together and show as a visual the data that is more prominent.\n",
    "***\n",
    "__CONCLUSION__\n",
    "\n",
    "Finally, the goal of cleaning the data and showcasing the analysis is to understand what data you have and how best to present it. Cleaning your data is of the utmost importance but presenting it in a concise and efficient manner is almost as equally important. \n",
    "\n",
    "This is an issue plaguing America and it would be nice to uncover some legitimate information to help further understand the crisis affecting our country. Additionally, I would like to present this data in a way that would lead others to want to take my results and dig deeper.\n"
   ]
  },
  {
   "cell_type": "code",
   "execution_count": null,
   "metadata": {},
   "outputs": [],
   "source": []
  }
 ],
 "metadata": {
  "kernelspec": {
   "display_name": "Python 3",
   "language": "python",
   "name": "python3"
  },
  "language_info": {
   "codemirror_mode": {
    "name": "ipython",
    "version": 3
   },
   "file_extension": ".py",
   "mimetype": "text/x-python",
   "name": "python",
   "nbconvert_exporter": "python",
   "pygments_lexer": "ipython3",
   "version": "3.6.5"
  }
 },
 "nbformat": 4,
 "nbformat_minor": 2
}
