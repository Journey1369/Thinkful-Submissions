{
 "cells": [
  {
   "cell_type": "markdown",
   "metadata": {},
   "source": [
    "__*After the initial selection, the host removes one of the choices. The initial odds of winning the car were 1/3 as either could possibly hide the car behind its doors. If the car is behind door 1, then the host can open door 2 or 3. If the car is behind door number 2 or 3, then the host MUST choose the other door to open. Doing so reveals his hand and lets the contestant to know which door the car is behind. Thus, using statistical analysis, when the host removes a choice for the contestant, the odds have now switched in favor of the contestant winning the car.*__"
   ]
  },
  {
   "cell_type": "code",
   "execution_count": null,
   "metadata": {},
   "outputs": [],
   "source": []
  }
 ],
 "metadata": {
  "kernelspec": {
   "display_name": "Python 3",
   "language": "python",
   "name": "python3"
  },
  "language_info": {
   "codemirror_mode": {
    "name": "ipython",
    "version": 3
   },
   "file_extension": ".py",
   "mimetype": "text/x-python",
   "name": "python",
   "nbconvert_exporter": "python",
   "pygments_lexer": "ipython3",
   "version": "3.6.5"
  }
 },
 "nbformat": 4,
 "nbformat_minor": 2
}
