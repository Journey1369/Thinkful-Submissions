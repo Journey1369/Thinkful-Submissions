{
 "cells": [
  {
   "cell_type": "markdown",
   "metadata": {},
   "source": [
    "__1)__ *The answer to HTTH, HHHH and TTHH is the same: .5*.5*.5*.5=.0625 , because the patterns are ordered*"
   ]
  },
  {
   "cell_type": "markdown",
   "metadata": {},
   "source": [
    "__2)__ *The odds of NOT selecting a man is 24/45*"
   ]
  },
  {
   "cell_type": "markdown",
   "metadata": {},
   "source": [
    "__3)__ *I believe that the odds of her getting into a plane crash within the next year is 0.0005%*"
   ]
  },
  {
   "cell_type": "markdown",
   "metadata": {},
   "source": [
    "__4)__ * I believe that the data is skewed because the probabaility is only 5% per click. That would indicate that a user could spend \"X\" amount of time on the website before being asked to comeplete the survey. Since the probability of being asked to complete a survey is only 5%, the variance is too great to be accurately considered for any findings. Thus, to get a more accurate indication, the Data Scientist would need to set better parameters.*"
   ]
  },
  {
   "cell_type": "code",
   "execution_count": null,
   "metadata": {},
   "outputs": [],
   "source": []
  }
 ],
 "metadata": {
  "kernelspec": {
   "display_name": "Python 3",
   "language": "python",
   "name": "python3"
  },
  "language_info": {
   "codemirror_mode": {
    "name": "ipython",
    "version": 3
   },
   "file_extension": ".py",
   "mimetype": "text/x-python",
   "name": "python",
   "nbconvert_exporter": "python",
   "pygments_lexer": "ipython3",
   "version": "3.6.5"
  }
 },
 "nbformat": 4,
 "nbformat_minor": 2
}
