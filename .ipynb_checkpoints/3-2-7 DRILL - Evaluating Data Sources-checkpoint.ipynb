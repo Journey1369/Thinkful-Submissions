{
 "cells": [
  {
   "cell_type": "markdown",
   "metadata": {},
   "source": [
    "__1)__ * Popular neighborhoods in Amsterdan have no relevancy on AirBnB during the Christmas Holidays. If the data for AirBnB during/after the 24th is required, then a better question needs to be asked with a different sampling period.*"
   ]
  },
  {
   "cell_type": "markdown",
   "metadata": {},
   "source": [
    "__2)__ * The mental health usage between two different cities on polar opposites of the country will dramatically vary due to the location, people, environment, and any number of considering factors. When discussing specifically the day after the 9/11 attacks, the sampling size will be skewed due to the nature of the day prior to what is being asked. 9/11 was one of the most devestating attacks on American soil that affected millions.*"
   ]
  },
  {
   "cell_type": "markdown",
   "metadata": {},
   "source": [
    "__3)__ *The data is skewed because the majority of the respondents are University students. It can be assumed that the reason they are going to the pub is because the location to the university. Perhaps the question should be changed to reflect the source of the respondents.*"
   ]
  }
 ],
 "metadata": {
  "kernelspec": {
   "display_name": "Python 3",
   "language": "python",
   "name": "python3"
  },
  "language_info": {
   "codemirror_mode": {
    "name": "ipython",
    "version": 3
   },
   "file_extension": ".py",
   "mimetype": "text/x-python",
   "name": "python",
   "nbconvert_exporter": "python",
   "pygments_lexer": "ipython3",
   "version": "3.6.5"
  }
 },
 "nbformat": 4,
 "nbformat_minor": 2
}
