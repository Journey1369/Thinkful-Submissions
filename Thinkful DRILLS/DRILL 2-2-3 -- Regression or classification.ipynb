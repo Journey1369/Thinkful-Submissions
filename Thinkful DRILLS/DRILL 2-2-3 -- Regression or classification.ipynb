{
 "cells": [
  {
   "cell_type": "markdown",
   "metadata": {},
   "source": [
    "__1) The amount a person will spend on a given site in the next 24 months.__\n",
    "\n",
    ">*Regression*"
   ]
  },
  {
   "cell_type": "markdown",
   "metadata": {},
   "source": [
    "__2) What color car someone is going to buy.__\n",
    "\n",
    ">*Classification*"
   ]
  },
  {
   "cell_type": "markdown",
   "metadata": {},
   "source": [
    "__3) How many children a family will have.__\n",
    "\n",
    ">*Regression*"
   ]
  },
  {
   "cell_type": "markdown",
   "metadata": {},
   "source": [
    "__4) If someone will sign up for a service.__\n",
    "\n",
    ">*Classification*"
   ]
  },
  {
   "cell_type": "markdown",
   "metadata": {},
   "source": [
    "__5) The number of times someone will get sick in a year.__\n",
    "\n",
    ">*Classification*"
   ]
  },
  {
   "cell_type": "markdown",
   "metadata": {},
   "source": [
    "__6) The probability someone will get sick in the next month.__\n",
    "\n",
    ">*Regression*"
   ]
  },
  {
   "cell_type": "markdown",
   "metadata": {},
   "source": [
    "__7) Which medicine will work best for a given patient.__\n",
    "\n",
    ">*Classification*"
   ]
  }
 ],
 "metadata": {
  "kernelspec": {
   "display_name": "Python 3",
   "language": "python",
   "name": "python3"
  },
  "language_info": {
   "codemirror_mode": {
    "name": "ipython",
    "version": 3
   },
   "file_extension": ".py",
   "mimetype": "text/x-python",
   "name": "python",
   "nbconvert_exporter": "python",
   "pygments_lexer": "ipython3",
   "version": "3.6.5"
  }
 },
 "nbformat": 4,
 "nbformat_minor": 2
}
