{
 "cells": [
  {
   "cell_type": "code",
   "execution_count": null,
   "metadata": {},
   "outputs": [],
   "source": [
    "# Let's say we work at a credit card company and we're trying to figure out if people are going to pay their bills on time. \n",
    "# We have everyone's purchases, split into four main categories: groceries, dining out, utilities, and entertainment. \n",
    "# What are some ways you might use KNN to create this model? What aspects of KNN would be useful? \n",
    "# Write up your thoughts in submit a link below."
   ]
  },
  {
   "cell_type": "markdown",
   "metadata": {},
   "source": [
    "The purpose of using a KNN model is to create a database which the data points can be seperated into several classes, in\n",
    "this case, \"groceries, dining out, utilities, and entertainment\", in order to predict the classification of a new sample \n",
    "point. \n",
    "\n",
    "I would use KNN algorithm to help me seperate the different categories which will help me predict the classification and creare a new sample point"
   ]
  },
  {
   "cell_type": "markdown",
   "metadata": {},
   "source": [
    "The KNN Algorithm is useful due in part because it relies heavily on feature similarity. KNN can also be used for classification while also being used for regression."
   ]
  }
 ],
 "metadata": {
  "kernelspec": {
   "display_name": "Python 3",
   "language": "python",
   "name": "python3"
  },
  "language_info": {
   "codemirror_mode": {
    "name": "ipython",
    "version": 3
   },
   "file_extension": ".py",
   "mimetype": "text/x-python",
   "name": "python",
   "nbconvert_exporter": "python",
   "pygments_lexer": "ipython3",
   "version": "3.7.2"
  }
 },
 "nbformat": 4,
 "nbformat_minor": 2
}
