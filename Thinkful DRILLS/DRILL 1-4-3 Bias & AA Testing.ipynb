{
 "cells": [
  {
   "cell_type": "markdown",
   "metadata": {},
   "source": [
    "*__1) You're testing advertising emails for a bathing suit company and you test one version of the email in February and the other in May.__*\n",
    "\n",
    "_The \"potential bias\" here is the time of year the emails are going out. Obviously emails geared towards summer wear that are sent in the summer are going to have a greater response than those that are sent in the winter._"
   ]
  },
  {
   "cell_type": "markdown",
   "metadata": {},
   "source": [
    "*__2 You open a clinic to treat anxiety and find that the people who visit show a higher rate of anxiety than the general population.__*\n",
    "\n",
    "_The bias here is that the clinic caters to those who suffer from anxiety. Those who do not suffer from anxiety will more than likely not visit such a clinic. If the clinic is looking for a more robust clientele, then they need to cater to those._"
   ]
  },
  {
   "cell_type": "markdown",
   "metadata": {},
   "source": [
    "*__3) You launch a new ad billboard based campaign and see an increase in website visits in the first week.__*\n",
    "\n",
    "_The bias is that bringing new advertisement campaigns will drive more traffic to you locations, websites, or anything else pertaining to the organization. It is a given that when attention is drawn to something, people will notice and tend to pay attention more._"
   ]
  },
  {
   "cell_type": "markdown",
   "metadata": {},
   "source": [
    "*__4) You launch a loyalty program but see no change in visits in the first week.__*\n",
    "\n",
    "_There can be several contributing factors to this. The main one thay jumps to me is that you want to give it more time than just a week. Second, if its a loyalty program, you will generally see consistent customers rather than a driving force for new customers. I think the bias here is that it could be a lack of advertising or even a lack of patience for it kick off._"
   ]
  },
  {
   "cell_type": "code",
   "execution_count": null,
   "metadata": {},
   "outputs": [],
   "source": []
  }
 ],
 "metadata": {
  "kernelspec": {
   "display_name": "Python 3",
   "language": "python",
   "name": "python3"
  },
  "language_info": {
   "codemirror_mode": {
    "name": "ipython",
    "version": 3
   },
   "file_extension": ".py",
   "mimetype": "text/x-python",
   "name": "python",
   "nbconvert_exporter": "python",
   "pygments_lexer": "ipython3",
   "version": "3.6.5"
  }
 },
 "nbformat": 4,
 "nbformat_minor": 2
}
