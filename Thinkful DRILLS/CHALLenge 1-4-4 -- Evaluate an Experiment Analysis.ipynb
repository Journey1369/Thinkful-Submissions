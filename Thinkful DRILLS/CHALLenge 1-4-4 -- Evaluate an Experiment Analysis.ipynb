{
 "cells": [
  {
   "cell_type": "markdown",
   "metadata": {},
   "source": [
    "*__1) The Sith Lords are concerned that their recruiting slogan, \"Give In to Your Anger,\" isn't very effective. Darth Vader develops an alternative slogan, \"Together We Can Rule the Galaxy.\" They compare the slogans on two groups of 50 captured droids each. In one group, Emperor Palpatine delivers the \"Anger\" slogan. In the other, Darth Vader presents the \"Together\" slogan. 20 droids convert to the Dark Side after hearing Palpatine's slogan, while only 5 droids convert after hearing Vader's. The Sith's data scientist concludes that \"Anger\" is a more effective slogan and should continue to be used.__*\n",
    "\n",
    "_The flaw in this statement is that droids are programmed and dont generally feel one side or the other. They do what they are programmed to do. Hence, they would feel neutral on either slogan. WITH THAT BEING SAID, I will get into the bias..._\n",
    "\n",
    "_The bias (other than them being droids) is that if they were FEELING beings, that they would lean more towards the person who has a greater position of power, which would be the emperor. To fix this, I would have the messages delievered to imperial troops in a blind message forum._\n",
    "\n",
    "_P.S. There are only two Sith ever at any given time due to the rule of two started by Darth Bane. They would not be recruiting more Sith because there are none. Moreover, the slogan would be the incorrect slogan to recruit more troops to fulfill the imperial army._"
   ]
  },
  {
   "cell_type": "markdown",
   "metadata": {},
   "source": [
    "*__2) In the past, the Jedi have had difficulty with public relations. They send two envoys, Jar Jar Binks and Mace Windu, to four friendly and four unfriendly planets respectively, with the goal of promoting favorable feelings toward the Jedi. Upon their return, the envoys learn that Jar Jar was much more effective than Windu: Over 75% of the people surveyed said their attitudes had become more favorable after speaking with Jar Jar, while only 65% said their attitudes had become more favorable after speaking with Windu. This makes Windu angry, because he is sure that he had a better success rate than Jar Jar on every planet. The Jedi choose Jar Jar to be their representative in the future.__*\n",
    "\n",
    "_First off, this is not believable because no one likes Jar Jar Binks. Secondly, Mace Windu is a Jedi master who has control over his feelings. Being as such, he would not get angry. He would revise his approach and figure out a way to deliver his message more effectively._\n",
    "\n",
    "_The bias here is that if the galaxy already has an unfavorable outlook on the Jedi, sending a Jedi to rectify these relations in comparison may not be the best approach. I think the most important and effective way to manage relations and turn them to be more favorable is to send a neutral party to relay messages of peace to increase the likelihood of a more favorable outcome._\n",
    "\n",
    "*__There is no emotion, there is peace.\n",
    "There is no ignorance, there is knowledge.\n",
    "There is no passion, there is serenity.\n",
    "There is no chaos, there is harmony.\n",
    "There is no death, there is the Force.__*"
   ]
  },
  {
   "cell_type": "markdown",
   "metadata": {},
   "source": [
    "*__3) A company with work sites in five different countries has sent you data on employee satisfaction rates for workers in Human Resources and workers in Information Technology. Most HR workers are concentrated in three of the countries, while IT workers are equally distributed across worksites. The company requests a report on satisfaction for each job type. You calculate average job satisfaction for HR and for IT and present the report.__*\n",
    "\n",
    "_The bias here is that they are in different locations so working conditions may vary. Also the jobs in and of themselves are completeley different. To rectify this, I would need to do some A/B testing to determine a better outcome. I would need to make sure that the questions asked during the survey would not show any bias and would need to be concentrated towards overall satisfaction._"
   ]
  },
  {
   "cell_type": "markdown",
   "metadata": {},
   "source": [
    "*__4) When people install the Happy Days Fitness Tracker app, they are asked to \"opt in\" to a data collection scheme where their level of physical activity data is automatically sent to the company for product research purposes. During your interview with the company, they tell you that the app is very effective because after installing the app, the data show that people's activity levels rise steadily.__*\n",
    "\n",
    "_The bias is that its an app that people download for fitness purposes and that the data is collected when people exercise. I would fix this by letting the data track how often people exercise with it downloaded in comparison to those who download it and actually exercise. This will give a better data collection for analysis._ "
   ]
  },
  {
   "cell_type": "markdown",
   "metadata": {},
   "source": [
    "*__5) To prevent cheating, a teacher writes three versions of a test. She stacks the three versions together, first all copies of Version A, then all copies of Version B, then all copies of Version C. As students arrive for the exam, each student takes a test. When grading the test, the teacher finds that students who took Version B scored higher than students who took either Version A or Version C. She concludes from this that Version B is easier, and discards it.__*\n",
    "\n",
    "_The whole data is skewed. There are multiple reasons as to why it is skewed but the main reason that jumps to me is that she didnt randomize the stacks of tests or give the tests to every other student in some ordered fashion to randomize it. To rectify this, I would randomize handing out the tests and randomize the seating arrangements of the students. This will give me better data for analysis._"
   ]
  },
  {
   "cell_type": "code",
   "execution_count": null,
   "metadata": {},
   "outputs": [],
   "source": []
  }
 ],
 "metadata": {
  "kernelspec": {
   "display_name": "Python 3",
   "language": "python",
   "name": "python3"
  },
  "language_info": {
   "codemirror_mode": {
    "name": "ipython",
    "version": 3
   },
   "file_extension": ".py",
   "mimetype": "text/x-python",
   "name": "python",
   "nbconvert_exporter": "python",
   "pygments_lexer": "ipython3",
   "version": "3.6.5"
  }
 },
 "nbformat": 4,
 "nbformat_minor": 2
}
