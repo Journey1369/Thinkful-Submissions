{
 "cells": [
  {
   "cell_type": "markdown",
   "metadata": {},
   "source": [
    "*__The Sith Lords are concerned that their recruiting slogan, \"Give In to Your Anger,\" isn't very effective. Darth Vader develops an alternative slogan, \"Together We Can Rule the Galaxy.\" They compare the slogans on two groups of 50 captured droids each. In one group, Emperor Palpatine delivers the \"Anger\" slogan. In the other, Darth Vader presents the \"Together\" slogan. 20 droids convert to the Dark Side after hearing Palpatine's slogan, while only 5 droids convert after hearing Vader's. The Sith's data scientist concludes that \"Anger\" is a more effective slogan and should continue to be used.__*"
   ]
  },
  {
   "cell_type": "markdown",
   "metadata": {},
   "source": [
    "*__CURRENT PROCESS__*\n",
    "\n",
    "__The Problem:__ _The Empire is having problems recruiting individuals for their Imperial Army._\n",
    "\n",
    "__The Potential Solutioin:__ _The Sith Lords have determined that creating a new recruiting slogan will assist in adding more to their army._\n",
    "\n",
    "__The Testing Method:__ _They have decided that the most effective testing method is for Darth Vader and Darth Sidious to state the new slogan to droids and then have the droids decide which is the most effective in recruiting._"
   ]
  },
  {
   "cell_type": "markdown",
   "metadata": {},
   "source": [
    "*__IMPROVED PROCESS__*\n",
    "\n",
    "__The Problem:__ _The Empire is having problems recruiting individuals for their Imperial Army._ \n",
    "\n",
    "__The Potential Solutioin:__ _The Sith Lords have determined that creating a new recruiting slogan will assist in adding more to their army._\n",
    "\n",
    "__The Testing Method:__ _The new testing method would implement a blind message selection survey. Additionally, droids would be removed from the testing audience and replaced with actual soldiers currently serving in the empire and to neutral members of the populace who are favorable to the empire. Finally, the selection size would be more than 50 individuals and a time frame of 30 days to gather results, analyze the data, and to implement the new slogan._"
   ]
  },
  {
   "cell_type": "code",
   "execution_count": null,
   "metadata": {},
   "outputs": [],
   "source": []
  }
 ],
 "metadata": {
  "kernelspec": {
   "display_name": "Python 3",
   "language": "python",
   "name": "python3"
  },
  "language_info": {
   "codemirror_mode": {
    "name": "ipython",
    "version": 3
   },
   "file_extension": ".py",
   "mimetype": "text/x-python",
   "name": "python",
   "nbconvert_exporter": "python",
   "pygments_lexer": "ipython3",
   "version": "3.6.5"
  }
 },
 "nbformat": 4,
 "nbformat_minor": 2
}
