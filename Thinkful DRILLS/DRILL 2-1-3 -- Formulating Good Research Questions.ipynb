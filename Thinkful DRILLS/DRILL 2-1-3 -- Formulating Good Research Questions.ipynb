{
 "cells": [
  {
   "cell_type": "markdown",
   "metadata": {},
   "source": [
    "1) What is the 1994 rate of juvenile delinquency in the U.S.?\n",
    "> __Good__\n",
    ">\n",
    "2) What can we do to reduce juvenile delinquency in the U.S.? \n",
    ">__Bad__\n",
    ">\n",
    ">A) _Can juvenile deliquency be reduced in the U.S.?_\n",
    "\n",
    "3) Does education play a role in reducing juvenile delinquents' return to crime?\n",
    "> __Good__\n",
    ">\n",
    "4) How many customers does AT&T currently serve in Washington, DC?\n",
    "> __Good__\n",
    ">\n",
    "5) What factors lead consumers to choose AT&T over other service providers?\n",
    "> __Good__\n",
    ">\n",
    "6) How can AT&T attract more customers? \n",
    ">__Bad__\n",
    ">\n",
    ">A) _What methods of marketing are the most successful at AT&T?_\n",
    "\n",
    "7) Why did the Challenger Shuttle explode? \n",
    ">__Bad__\n",
    ">\n",
    ">A) _Was the cause of the Challender explosion preventable?_\n",
    "\n",
    "8) Which genes are associated with increased risk of breast cancer? \n",
    ">__Bad__\n",
    ">\n",
    ">A) _Are there genes that are dominant with increased breast cnacer rates?_\n",
    "\n",
    "9) Is it better to read to children at night or in the morning?\n",
    "> __Good__\n",
    "\n",
    "10) How does Google’s search algorithm work? \n",
    ">__Bad__\n",
    ">\n",
    ">A) _How successful is Goodle's search algorithm?_"
   ]
  },
  {
   "cell_type": "code",
   "execution_count": null,
   "metadata": {},
   "outputs": [],
   "source": []
  }
 ],
 "metadata": {
  "kernelspec": {
   "display_name": "Python 3",
   "language": "python",
   "name": "python3"
  },
  "language_info": {
   "codemirror_mode": {
    "name": "ipython",
    "version": 3
   },
   "file_extension": ".py",
   "mimetype": "text/x-python",
   "name": "python",
   "nbconvert_exporter": "python",
   "pygments_lexer": "ipython3",
   "version": "3.6.5"
  }
 },
 "nbformat": 4,
 "nbformat_minor": 2
}
