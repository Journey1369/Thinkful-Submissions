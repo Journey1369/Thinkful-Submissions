{
 "cells": [
  {
   "cell_type": "markdown",
   "metadata": {},
   "source": [
    "*__1) Does a new supplement help people sleep better?__*\n",
    "\n",
    "_In order to test for the potency of a sleep supplements effectiveness, I would implement my __\"two versions\"__ which would be the control (something already in use) and my test version. My test version would be the new supplement. I would have __\"sampling\"__ done by selecting two groups with almost exact parameters for my data. I would ensure that the __\"other measured variables\"__ are as close to exact as possible that way my data cannot be skewed in one direction or the other. Furthermore, before conducting any test/sample/experiment for data analysis, I would come up with a sound __\"hypothesis\"__ on what I __THINK__ the __\"outcome\"__ will be. Following my hypothesis, I will measure the outcome and determine what key metric influenced the data to be presented from the analysis on whether the new supplement was effective or not._\n"
   ]
  },
  {
   "cell_type": "markdown",
   "metadata": {},
   "source": [
    "*__2) Will new uniforms help a gym's business?__*\n",
    "\n",
    "_I would conduct some sort of test to determine the effectiveness of uniforms in a business. If I had multiple locations, I would use as many locations needed (more than likely 10-20% of the stores) as a test version and the other locations to be the \"control\". Depending on the outcome of the test would determine my next steps after evaluating the data that was presented._"
   ]
  },
  {
   "cell_type": "markdown",
   "metadata": {},
   "source": [
    "*__3) Will a new homepage improve my online exotic pet rental business?__*\n",
    "\n",
    "_This method would be slightly different because the control and test would have to be done differently. I would gather the data from the old webpage and then set up a sample for 90 days to gather information on traffic flow, clicks, or any other pertinent information needed to determine if a hypothesis was correct. This would help determine my next steps and outcomes. A key difference would be the measure variables as a NEW webpage will alter some of the variables. To be make it as impartial as possible, I would do what I can to make it as close as exact as possible._"
   ]
  },
  {
   "cell_type": "markdown",
   "metadata": {},
   "source": [
    "__*4) If I put 'please read' in the email subject will more people read my emails?__*\n",
    "\n",
    "_This question will have a similar steps as to the homepage question. I will send out emails with \"please read\" and some without. That would be my \"two versions\". I would follow the steps outlined to gather data and form a hypothesis. The content of the emails will be the same along with any other measured variables. Based on the data gathered, that will determine the outcome._"
   ]
  },
  {
   "cell_type": "code",
   "execution_count": null,
   "metadata": {},
   "outputs": [],
   "source": []
  }
 ],
 "metadata": {
  "kernelspec": {
   "display_name": "Python 3",
   "language": "python",
   "name": "python3"
  },
  "language_info": {
   "codemirror_mode": {
    "name": "ipython",
    "version": 3
   },
   "file_extension": ".py",
   "mimetype": "text/x-python",
   "name": "python",
   "nbconvert_exporter": "python",
   "pygments_lexer": "ipython3",
   "version": "3.6.5"
  }
 },
 "nbformat": 4,
 "nbformat_minor": 2
}
