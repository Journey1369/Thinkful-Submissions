{
 "cells": [
  {
   "cell_type": "markdown",
   "metadata": {},
   "source": [
    "__*Accidental Drug Related Deaths 2012 - 2017*__"
   ]
  },
  {
   "cell_type": "markdown",
   "metadata": {},
   "source": [
    "There is currently an epidemic steamrolling through America in the form of accidental drug related deaths. Moreover, it seems that the biggest concern has to deal with synthetic opioids. According to the CDC (CDC, 2018), “drug overdose data shows that America’s overdose epidemic is spreading geographically and increasing across demographic groups”. This is being done at an exceedingly alarming rate and it seems that with accidental drug overdoses, synthetic opioids seem to be the biggest culprit in regard to the “Accidental Drug Related Deaths” in in America today. \n",
    "\n",
    "What I hope to accomplish, from this data, is to see where exactly opioids fall in America’s accidental drug related deaths. To do so, I will have to pose a few analytical questions and use the data presented to answer said questions. \n",
    "\n",
    "First, lets determine the set of questions to be asked.\n",
    "\n",
    "__1)\tAre opioids really the leading cause of accidental drug related deaths?__ \n",
    "\n",
    "__2)\tWhat ethnicity is more likely to have an accidental drug related death?__\n",
    "\n",
    "    a.\tWhat is the gender that tends to abuse drugs?\n",
    "    \n",
    "    b.\tWhat are the age variances of the individuals more likely to have an accidental drug related death?\n",
    "    \n",
    "__3)\tDue to the crisis revolving around opioid’s, what is the likelihood someone will have an accidental drug related death regarding opioids in comparison to other deadly narcotics, such as heroin?__\n"
   ]
  },
  {
   "cell_type": "code",
   "execution_count": 94,
   "metadata": {},
   "outputs": [
    {
     "name": "stdout",
     "output_type": "stream",
     "text": [
      "C:\\Users\\rjourney\\Desktop\\Development Jupyter Notes\n"
     ]
    }
   ],
   "source": [
    "import pandas as pd\n",
    "import numpy as np\n",
    "import scipy\n",
    "import os\n",
    "import matplotlib.pyplot as plt\n",
    "%matplotlib inline\n",
    "\n",
    "print(os.getcwd())"
   ]
  },
  {
   "cell_type": "code",
   "execution_count": 95,
   "metadata": {},
   "outputs": [],
   "source": [
    "fname = \"Accidental_Drug_Related_Deaths__2012-2017(A).csv\"\n",
    "df = pd.read_csv(fname)"
   ]
  },
  {
   "cell_type": "code",
   "execution_count": 96,
   "metadata": {
    "scrolled": true
   },
   "outputs": [
    {
     "data": {
      "text/html": [
       "<div>\n",
       "<style scoped>\n",
       "    .dataframe tbody tr th:only-of-type {\n",
       "        vertical-align: middle;\n",
       "    }\n",
       "\n",
       "    .dataframe tbody tr th {\n",
       "        vertical-align: top;\n",
       "    }\n",
       "\n",
       "    .dataframe thead th {\n",
       "        text-align: right;\n",
       "    }\n",
       "</style>\n",
       "<table border=\"1\" class=\"dataframe\">\n",
       "  <thead>\n",
       "    <tr style=\"text-align: right;\">\n",
       "      <th></th>\n",
       "      <th>Sex</th>\n",
       "      <th>Race</th>\n",
       "      <th>Age</th>\n",
       "      <th>DescriptionofInjury</th>\n",
       "      <th>ImmediateCauseA</th>\n",
       "      <th>Heroin</th>\n",
       "      <th>Cocaine</th>\n",
       "      <th>Fentanyl</th>\n",
       "      <th>Oxycodone</th>\n",
       "      <th>Oxymorphone</th>\n",
       "      <th>EtOH</th>\n",
       "      <th>Hydrocodone</th>\n",
       "      <th>Benzodiazepine</th>\n",
       "      <th>Methadone</th>\n",
       "      <th>Amphet</th>\n",
       "      <th>Tramad</th>\n",
       "      <th>Morphine (not heroin)</th>\n",
       "      <th>Other</th>\n",
       "      <th>Any Opioid</th>\n",
       "    </tr>\n",
       "  </thead>\n",
       "  <tbody>\n",
       "    <tr>\n",
       "      <th>0</th>\n",
       "      <td>NaN</td>\n",
       "      <td>NaN</td>\n",
       "      <td>NaN</td>\n",
       "      <td>NaN</td>\n",
       "      <td>Acute fent, hydrocod, benzodiazepine</td>\n",
       "      <td>NaN</td>\n",
       "      <td>NaN</td>\n",
       "      <td>Y</td>\n",
       "      <td>NaN</td>\n",
       "      <td>NaN</td>\n",
       "      <td>NaN</td>\n",
       "      <td>Y</td>\n",
       "      <td>Y</td>\n",
       "      <td>NaN</td>\n",
       "      <td>NaN</td>\n",
       "      <td>NaN</td>\n",
       "      <td>NaN</td>\n",
       "      <td>NaN</td>\n",
       "      <td>NaN</td>\n",
       "    </tr>\n",
       "    <tr>\n",
       "      <th>1</th>\n",
       "      <td>Male</td>\n",
       "      <td>White</td>\n",
       "      <td>45.0</td>\n",
       "      <td>NaN</td>\n",
       "      <td>Fentanyl Intoxication</td>\n",
       "      <td>NaN</td>\n",
       "      <td>NaN</td>\n",
       "      <td>Y</td>\n",
       "      <td>NaN</td>\n",
       "      <td>NaN</td>\n",
       "      <td>NaN</td>\n",
       "      <td>NaN</td>\n",
       "      <td>NaN</td>\n",
       "      <td>NaN</td>\n",
       "      <td>NaN</td>\n",
       "      <td>NaN</td>\n",
       "      <td>NaN</td>\n",
       "      <td>NaN</td>\n",
       "      <td>NaN</td>\n",
       "    </tr>\n",
       "    <tr>\n",
       "      <th>2</th>\n",
       "      <td>Male</td>\n",
       "      <td>White</td>\n",
       "      <td>30.0</td>\n",
       "      <td>NaN</td>\n",
       "      <td>Methadone and Cocaine Intoxication</td>\n",
       "      <td>NaN</td>\n",
       "      <td>Y</td>\n",
       "      <td>NaN</td>\n",
       "      <td>NaN</td>\n",
       "      <td>NaN</td>\n",
       "      <td>NaN</td>\n",
       "      <td>NaN</td>\n",
       "      <td>NaN</td>\n",
       "      <td>Y</td>\n",
       "      <td>NaN</td>\n",
       "      <td>NaN</td>\n",
       "      <td>NaN</td>\n",
       "      <td>NaN</td>\n",
       "      <td>NaN</td>\n",
       "    </tr>\n",
       "    <tr>\n",
       "      <th>3</th>\n",
       "      <td>Male</td>\n",
       "      <td>White</td>\n",
       "      <td>27.0</td>\n",
       "      <td>NaN</td>\n",
       "      <td>Intoxication due to the combined effects of Ox...</td>\n",
       "      <td>NaN</td>\n",
       "      <td>NaN</td>\n",
       "      <td>NaN</td>\n",
       "      <td>Y</td>\n",
       "      <td>Y</td>\n",
       "      <td>NaN</td>\n",
       "      <td>NaN</td>\n",
       "      <td>NaN</td>\n",
       "      <td>NaN</td>\n",
       "      <td>NaN</td>\n",
       "      <td>NaN</td>\n",
       "      <td>NaN</td>\n",
       "      <td>NaN</td>\n",
       "      <td>NaN</td>\n",
       "    </tr>\n",
       "    <tr>\n",
       "      <th>4</th>\n",
       "      <td>Male</td>\n",
       "      <td>White</td>\n",
       "      <td>21.0</td>\n",
       "      <td>NaN</td>\n",
       "      <td>Multiple Drug Toxicity</td>\n",
       "      <td>Y</td>\n",
       "      <td>NaN</td>\n",
       "      <td>NaN</td>\n",
       "      <td>NaN</td>\n",
       "      <td>NaN</td>\n",
       "      <td>NaN</td>\n",
       "      <td>NaN</td>\n",
       "      <td>NaN</td>\n",
       "      <td>NaN</td>\n",
       "      <td>NaN</td>\n",
       "      <td>NaN</td>\n",
       "      <td>NaN</td>\n",
       "      <td>NaN</td>\n",
       "      <td>NaN</td>\n",
       "    </tr>\n",
       "  </tbody>\n",
       "</table>\n",
       "</div>"
      ],
      "text/plain": [
       "    Sex   Race   Age DescriptionofInjury  \\\n",
       "0   NaN    NaN   NaN                 NaN   \n",
       "1  Male  White  45.0                 NaN   \n",
       "2  Male  White  30.0                 NaN   \n",
       "3  Male  White  27.0                 NaN   \n",
       "4  Male  White  21.0                 NaN   \n",
       "\n",
       "                                     ImmediateCauseA Heroin Cocaine Fentanyl  \\\n",
       "0               Acute fent, hydrocod, benzodiazepine    NaN     NaN        Y   \n",
       "1                              Fentanyl Intoxication    NaN     NaN        Y   \n",
       "2                 Methadone and Cocaine Intoxication    NaN       Y      NaN   \n",
       "3  Intoxication due to the combined effects of Ox...    NaN     NaN      NaN   \n",
       "4                             Multiple Drug Toxicity      Y     NaN      NaN   \n",
       "\n",
       "  Oxycodone Oxymorphone EtOH Hydrocodone Benzodiazepine Methadone Amphet  \\\n",
       "0       NaN         NaN  NaN           Y              Y       NaN    NaN   \n",
       "1       NaN         NaN  NaN         NaN            NaN       NaN    NaN   \n",
       "2       NaN         NaN  NaN         NaN            NaN         Y    NaN   \n",
       "3         Y           Y  NaN         NaN            NaN       NaN    NaN   \n",
       "4       NaN         NaN  NaN         NaN            NaN       NaN    NaN   \n",
       "\n",
       "  Tramad Morphine (not heroin) Other Any Opioid  \n",
       "0    NaN                   NaN   NaN        NaN  \n",
       "1    NaN                   NaN   NaN        NaN  \n",
       "2    NaN                   NaN   NaN        NaN  \n",
       "3    NaN                   NaN   NaN        NaN  \n",
       "4    NaN                   NaN   NaN        NaN  "
      ]
     },
     "execution_count": 96,
     "metadata": {},
     "output_type": "execute_result"
    }
   ],
   "source": [
    "df.head()"
   ]
  },
  {
   "cell_type": "code",
   "execution_count": 137,
   "metadata": {},
   "outputs": [
    {
     "data": {
      "text/plain": [
       "(4069, 17)"
      ]
     },
     "execution_count": 137,
     "metadata": {},
     "output_type": "execute_result"
    }
   ],
   "source": [
    "df.shape\n",
    "# How large is my dataframe?"
   ]
  },
  {
   "cell_type": "code",
   "execution_count": 139,
   "metadata": {},
   "outputs": [
    {
     "data": {
      "text/plain": [
       "Index(['Sex', 'Race', 'Age', 'ImmediateCauseA', 'Heroin', 'Cocaine',\n",
       "       'Fentanyl', 'Oxycodone', 'Oxymorphone', 'EtOH', 'Hydrocodone',\n",
       "       'Benzodiazepine', 'Methadone', 'Amphet', 'Tramad',\n",
       "       'Morphine (not heroin)', 'Any Opioid'],\n",
       "      dtype='object')"
      ]
     },
     "execution_count": 139,
     "metadata": {},
     "output_type": "execute_result"
    }
   ],
   "source": [
    "df.columns\n",
    "# What are my columns?"
   ]
  },
  {
   "cell_type": "code",
   "execution_count": 99,
   "metadata": {},
   "outputs": [],
   "source": [
    "cols = ['Sex', 'Race', 'Age', 'DescriptionofInjury', 'ImmediateCauseA',\n",
    "       'Heroin', 'Cocaine', 'Fentanyl', 'Oxycodone', 'Oxymorphone', 'EtOH',\n",
    "       'Hydrocodone', 'Benzodiazepine', 'Methadone', 'Amphet', 'Tramad',\n",
    "       'Morphine (not heroin)', 'Other', 'Any Opioid']"
   ]
  },
  {
   "cell_type": "code",
   "execution_count": 100,
   "metadata": {},
   "outputs": [
    {
     "name": "stdout",
     "output_type": "stream",
     "text": [
      "column: Sex\n",
      "<class 'str'>\n",
      "column: Race\n",
      "<class 'str'>\n",
      "column: Age\n",
      "<class 'str'>\n",
      "column: DescriptionofInjury\n",
      "<class 'str'>\n",
      "column: ImmediateCauseA\n",
      "<class 'str'>\n",
      "column: Heroin\n",
      "<class 'str'>\n",
      "column: Cocaine\n",
      "<class 'str'>\n",
      "column: Fentanyl\n",
      "<class 'str'>\n",
      "column: Oxycodone\n",
      "<class 'str'>\n",
      "column: Oxymorphone\n",
      "<class 'str'>\n",
      "column: EtOH\n",
      "<class 'str'>\n",
      "column: Hydrocodone\n",
      "<class 'str'>\n",
      "column: Benzodiazepine\n",
      "<class 'str'>\n",
      "column: Methadone\n",
      "<class 'str'>\n",
      "column: Amphet\n",
      "<class 'str'>\n",
      "column: Tramad\n",
      "<class 'str'>\n",
      "column: Morphine (not heroin)\n",
      "<class 'str'>\n",
      "column: Other\n",
      "<class 'str'>\n",
      "column: Any Opioid\n",
      "<class 'str'>\n"
     ]
    }
   ],
   "source": [
    "for col in cols:\n",
    "    print('column: {}'.format(col))\n",
    "    print(type(col))"
   ]
  },
  {
   "cell_type": "code",
   "execution_count": 144,
   "metadata": {},
   "outputs": [
    {
     "data": {
      "text/plain": [
       "Any Opioid               0\n",
       "Oxycodone                0\n",
       "Race                     0\n",
       "Age                      0\n",
       "ImmediateCauseA          0\n",
       "Heroin                   0\n",
       "Cocaine                  0\n",
       "Fentanyl                 0\n",
       "Oxymorphone              0\n",
       "Morphine (not heroin)    0\n",
       "EtOH                     0\n",
       "Hydrocodone              0\n",
       "Benzodiazepine           0\n",
       "Methadone                0\n",
       "Amphet                   0\n",
       "Tramad                   0\n",
       "Sex                      0\n",
       "dtype: int64"
      ]
     },
     "execution_count": 144,
     "metadata": {},
     "output_type": "execute_result"
    }
   ],
   "source": [
    "df.isnull().sum().sort_values(ascending = False).head(32)\n",
    "# The inital check to determine what needed to be removed for the data \n",
    "# (Hint: This the after effect of what was already removed)"
   ]
  },
  {
   "cell_type": "code",
   "execution_count": 145,
   "metadata": {},
   "outputs": [
    {
     "data": {
      "text/plain": [
       "array([45., 30., 27., 21., 25., 67., 32., 61., 37., 59., 22., 38., 40.,\n",
       "       71., 54., 52., 55., 44., 26., 18., 36., 53., 29., 48., 50., 49.,\n",
       "       64., 35., 62., 46., 31., 58., 39., 41., 47., 43., 23., 56., 72.,\n",
       "       28., 60., 24., 51., 57., 73., 42., 70., 34., 20., 33., 63., 69.,\n",
       "       17., 14., 65., 68., 19., 66., 75., 81., 87., 16.])"
      ]
     },
     "execution_count": 145,
     "metadata": {},
     "output_type": "execute_result"
    }
   ],
   "source": [
    "df['Age'].unique()\n",
    "# To determine if any unique identifiers exits in the \"Age Column\"."
   ]
  },
  {
   "cell_type": "code",
   "execution_count": 103,
   "metadata": {},
   "outputs": [
    {
     "name": "stdout",
     "output_type": "stream",
     "text": [
      "Sex\n",
      "[nan 'Male' 'Female']\n",
      "Race\n",
      "[nan 'White' 'Hispanic, White' 'Black' 'Unknown' 'Asian, Other'\n",
      " 'Hispanic, Black' 'Other' 'Asian Indian' 'Chinese'\n",
      " 'Native American, Other' 'Hawaiian']\n",
      "Age\n",
      "[nan 45. 30. 27. 21. 25. 67. 32. 61. 37. 59. 22. 38. 40. 71. 54. 52. 55.\n",
      " 44. 26. 18. 36. 53. 29. 48. 50. 49. 64. 35. 62. 46. 31. 58. 39. 41. 47.\n",
      " 43. 23. 56. 72. 28. 60. 24. 51. 57. 73. 42. 70. 34. 20. 33. 63. 69. 17.\n",
      " 14. 65. 68. 19. 66. 75. 81. 87. 16.]\n",
      "DescriptionofInjury\n",
      "[nan 'Substance Abuse' 'prescription medicine abuse'\n",
      " 'Medications and Alcohol' 'substance abuse' 'Drug use' 'drug use'\n",
      " 'SUBSTANCE ABUSE' 'Ingestion' 'Substance abuse' 'Drug Use'\n",
      " 'Abuse of Medication' 'Medication abuse' 'Prescription Abuse'\n",
      " 'substance abuse (injection)' 'Inhalation' 'ALCOHOL MEDICATION ABUSE'\n",
      " 'alcohol abuse' 'Took Medications' 'Combined Medication Alcohol'\n",
      " 'substance abuse, injection' 'Ingested medications' 'Took Medication'\n",
      " 'Recent cocaine use' 'Took Amphetamine' 'Used Medications, Alcohol'\n",
      " 'Prescription Medication' 'Medication Alcohol Abuse'\n",
      " 'Prescription Misuse' 'prescription  misuse' 'Alcohol and Medication'\n",
      " 'Abuse of Medications' 'Alcohol Medications'\n",
      " 'combined alcohol and medications' 'Abuse' 'ingestion'\n",
      " 'Combined Alcohol and Medication' 'Drug abuse' 'Used Oxycodone'\n",
      " 'Combined Medication with Alcohol' 'Took medications' 'Took cocaine'\n",
      " 'USED HYDROCODONE SYRUP AND DIPHENHYDRAMINE'\n",
      " 'Inhaling 1,1-DIFLUOROETHANE' 'Used Fentanyl' 'Abused medication'\n",
      " 'Used oxycodone and alcohol' 'Ingested medication' 'Took drugs'\n",
      " 'Took Fentanyl and Ethanol' 'Took opiate'\n",
      " 'Injected Prescription Medications and Crushed Pills'\n",
      " \"Took other's and own prescribed medications\" 'Injection' 'Drug Abuse'\n",
      " 'Took Fentanyl' 'Abused prescription medications'\n",
      " 'Took prescription medications, synthetic opioid, and ethanol'\n",
      " 'Took prescribed medication' 'Used multiple medications'\n",
      " 'OPIATE AND BENZODIAZEPINE USE' 'USED MORPHINE'\n",
      " 'Drank Alcohol and Took Prescription Medications' 'Methadone use'\n",
      " 'Took non-prescription synthetic opioid' 'Took prescription medications'\n",
      " 'Consumed medications' 'Used cocaine' 'Substance and medication use'\n",
      " 'Took fentanyl and ethanol' 'Drug and ethanol abuse'\n",
      " \"Ingestion of Another Person's Buprenorphine\" 'Ethanol and drug abuse'\n",
      " \"Took another person's methadone\" 'Used opiates'\n",
      " 'Prescription Medicine Abuse' 'Alcohol and substance abuse'\n",
      " 'Medication and alcohol abuse' 'Took Medications With Alcohol'\n",
      " 'Drug and Alcohol Abuse' 'Ingested Medications'\n",
      " 'Ingested Methadone Prescribed to Another Person with Own Prescription Medications'\n",
      " 'Took multiple medications'\n",
      " 'Consumed prescription medications and ethanol'\n",
      " 'Ingestion of Medications' 'Abuse of Inhalants'\n",
      " 'Took ethanol and fentanyl' 'Substance abuse)'\n",
      " 'Prescription Medicine Misuse' 'Alcohol and medication/substance abuse'\n",
      " 'Combined Medications with Alcohol'\n",
      " 'Used multiple medications and cocaine' 'USED MULTIPLE MEDICATIONS'\n",
      " 'Took oxycodone' 'Alcohol and Benzodiazepine use'\n",
      " 'Bathing in Hot Tub While Intoxicated' 'USED FENTANYL AND ALCOHOL'\n",
      " 'Used medications'\n",
      " 'Drank Alcohol to Excess While on Prescription Medications'\n",
      " 'Prescription drug use' 'Misuse of Medications'\n",
      " 'Took prescription medication' 'MEDICATION/OPIATE ABUSE' 'USED COCAINE'\n",
      " 'Ingested medications and ethanol'\n",
      " 'Combined medication and substance ingestion' 'SUBSTANCE  ABUSE'\n",
      " 'Used methadone' \"Took prescribed and other's medications\"\n",
      " 'Ingested medications, alcohol' 'Opiate use'\n",
      " 'Took Medication with Alcohol' 'INGESTED MEDICATIONS'\n",
      " 'Drug and alcohol abuse' 'Combined Alcohol and Medications']\n",
      "ImmediateCauseA\n",
      "['Acute fent, hydrocod, benzodiazepine' 'Fentanyl Intoxication'\n",
      " 'Methadone and Cocaine Intoxication' ...\n",
      " 'Multidrug Toxicity Including Fentanyl, Heroin, and Ethanol  '\n",
      " 'Acute Intoxication From the Combined Effects of Fentanyl, Oxycodone, Lorazepam, Cyclobenzaprine, Quetiapine, Escitalopram, Mirtazapine, Desmethyldoxepin, and Paroxetine'\n",
      " 'Acute Intoxication From the Combined Effects of Fentanyl, Heroin, Methadone, Alprazolam, Mirtazapine, and Alcohol ']\n",
      "Heroin\n",
      "[nan 'Y' 'y' ' ']\n",
      "Cocaine\n",
      "[nan 'Y' 'y' ' ']\n",
      "Fentanyl\n",
      "['Y' nan 'Y POPS' 'Y (PTCH)' 'Y-A' 'y']\n",
      "Oxycodone\n",
      "[nan 'Y' 'y' ' ']\n",
      "Oxymorphone\n",
      "[nan 'Y' ' ']\n",
      "EtOH\n",
      "[nan 'Y' 'y' ' ']\n",
      "Hydrocodone\n",
      "['Y' nan 'y' ' ']\n",
      "Benzodiazepine\n",
      "['Y' nan 'y' ' ' ' Y']\n",
      "Methadone\n",
      "[nan 'Y' 'y' ' ']\n",
      "Amphet\n",
      "[nan 'Y']\n",
      "Tramad\n",
      "[nan 'Y']\n",
      "Morphine (not heroin)\n",
      "[nan 'Y' 'NO RX BUT STRAWS' 'STOLE MEDS' 'y' 'PCP neg' ' ' ' Y']\n",
      "Other\n",
      "[nan 'MORPH NOS' 'OPIATES' 'BUPREN' 'DUSTER' 'HYDROMORPH' 'MORPHINE'\n",
      " 'OPIATE' 'BUPRENO' 'COD' 'MITRAGINE' 'BUPRE' 'MORPH' 'MORPHINE NO 6MAM'\n",
      " 'PCP' 'MORPHINE RX' 'OPIATE IN HOSP?' 'GHB' 'DOXY, PHENOBARB' 'CODEINE'\n",
      " 'POS 6-MAM' 'HYDR-MOR' 'OTHERS' 'BUPRENORPHINE' 'BUPRENORPHONE' 'SNORTED'\n",
      " 'MEPERIDINE' 'MORPH PCP' 'BUTALBITAL' 'TAPENTADOL' 'KETAMINE' 'ZOLP'\n",
      " 'H-MORPH' 'ZOLPIDEM' 'OPIATE SCREEN' 'DOX, DIPHEN' 'MDMA' 'HYD-MORPH'\n",
      " 'PAROX' 'SERT' 'BUPRENORP' 'HYDROMORP' 'MORPHIINE' 'MORPHINE/COD'\n",
      " 'OPIOID' 'BUPRENORPH' 'HYDROM' 'BUTALB' 'BATH SALT' 'TOPIRAMATE'\n",
      " 'HYDRMORP' 'KET' 'MORPHINE/HYDROMORPH' 'BUPROP' 'PHENOBARB' '2-A'\n",
      " 'DIFLUOROETH' 'MORPHIN' 'difluroethane' 'HYDRO MORPH' 'OPIOID NOS'\n",
      " 'PCP, MORPHINE NOS' 'QUIET' 'codeine' 'DIFLUROR' 'MORPHINE, HYDROMORPH'\n",
      " 'HYDROMORPHONE' 'DIFLOURO' 'HYDROMORPHONE, BUPRENORPHONE'\n",
      " 'LSD, hydromorphone' 'U-47700 synthetic opioid' 'LOPERAMIDE' 'Codeine'\n",
      " 'hydromorphone' 'morphine' 'PCP, HYDROMORPH' 'PCP, BUPRENORPHONE'\n",
      " 'Difluoroethane' 'MIRTAGYNINE' 'HYROMORPH' 'DIFLURO' 'MORPH/COD'\n",
      " 'BUPRENORPHONE, DIFLUORO' 'HYDMORPH' 'U-47700' 'CARFENTANIL' ' '\n",
      " 'BUPRENOR' 'U47700' 'BUPRNO' 'U-47700, CARFENTANIL' 'PCP, BUPRENOR'\n",
      " 'BUPRENOPHINE' 'BUPRENOR, CARFENTANIL' 'BUPRNOR' 'DIPHEN, CHLORPHEN']\n",
      "Any Opioid\n",
      "[nan 'Y' 'N' 'y' ' ']\n"
     ]
    }
   ],
   "source": [
    "for col in cols:\n",
    "    print(col)\n",
    "    print(df[col].unique())\n",
    "\n",
    "# Used to determine any unique identifiers to help clean up the data."
   ]
  },
  {
   "cell_type": "code",
   "execution_count": 104,
   "metadata": {},
   "outputs": [],
   "source": [
    "yes =['Heroin', 'Cocaine', 'Fentanyl', 'Oxycodone', 'Oxymorphone', 'EtOH', 'Hydrocodone', 'Benzodiazepine', 'Methadone', 'Amphet', 'Tramad',\n",
    "      'Morphine (not heroin)', 'Any Opioid']"
   ]
  },
  {
   "cell_type": "code",
   "execution_count": 118,
   "metadata": {},
   "outputs": [],
   "source": [
    "for col in yes:\n",
    "    df[col].replace('Y', 1, inplace=True)\n",
    "    df[col].replace('y', 1, inplace=True)\n",
    "    df[col] = df[col].fillna(0)\n",
    "    df[col].replace(' ', 0, inplace=True)\n",
    "    df[col].replace('Y POPS', 0, inplace=True)\n",
    "    df[col].replace('Y (PTCH)', 0, inplace=True)\n",
    "    df[col].replace('Y-A', 0, inplace=True)\n",
    "    df[col].replace('NO RX BUT STRAWS', 0, inplace=True)\n",
    "    df[col].replace('STOLE MEDS', 0, inplace=True)\n",
    "    df[col].replace('PCP neg', 0, inplace=True)\n",
    "    df[col].replace(' Y', 1, inplace=True)\n",
    "    df[col].replace('N', 0, inplace=True)"
   ]
  },
  {
   "cell_type": "code",
   "execution_count": 106,
   "metadata": {},
   "outputs": [
    {
     "data": {
      "text/plain": [
       "0    0\n",
       "1    0\n",
       "2    1\n",
       "3    0\n",
       "4    0\n",
       "Name: Cocaine, dtype: int64"
      ]
     },
     "execution_count": 106,
     "metadata": {},
     "output_type": "execute_result"
    }
   ],
   "source": [
    "df['Cocaine'].head()\n",
    "# Test to idenitfy any lapses in the clean up"
   ]
  },
  {
   "cell_type": "code",
   "execution_count": 107,
   "metadata": {},
   "outputs": [
    {
     "name": "stdout",
     "output_type": "stream",
     "text": [
      "Heroin\n",
      "[0 1]\n",
      "Cocaine\n",
      "[0 1]\n",
      "Fentanyl\n",
      "[1 0]\n",
      "Oxycodone\n",
      "[0 1]\n",
      "Oxymorphone\n",
      "[0 1]\n",
      "EtOH\n",
      "[0 1]\n",
      "Hydrocodone\n",
      "[1 0]\n",
      "Benzodiazepine\n",
      "[1 0]\n",
      "Methadone\n",
      "[0 1]\n",
      "Amphet\n",
      "[0. 1.]\n",
      "Tramad\n",
      "[0. 1.]\n",
      "Morphine (not heroin)\n",
      "[0 1]\n",
      "Any Opioid\n",
      "[0 1]\n"
     ]
    }
   ],
   "source": [
    "for col in yes:\n",
    "    print(col)\n",
    "    print(df[col].unique())"
   ]
  },
  {
   "cell_type": "code",
   "execution_count": 108,
   "metadata": {},
   "outputs": [
    {
     "name": "stdout",
     "output_type": "stream",
     "text": [
      "1    2149\n",
      "0    1934\n",
      "Name: Heroin, dtype: int64\n",
      "0    2909\n",
      "1    1174\n",
      "Name: Cocaine, dtype: int64\n",
      "0    2620\n",
      "1    1463\n",
      "Name: Fentanyl, dtype: int64\n",
      "0    3538\n",
      "1     545\n",
      "Name: Oxycodone, dtype: int64\n",
      "0    3987\n",
      "1      96\n",
      "Name: Oxymorphone, dtype: int64\n",
      "0    3096\n",
      "1     987\n",
      "Name: EtOH, dtype: int64\n",
      "0    3979\n",
      "1     104\n",
      "Name: Hydrocodone, dtype: int64\n",
      "0    3008\n",
      "1    1075\n",
      "Name: Benzodiazepine, dtype: int64\n",
      "0    3698\n",
      "1     385\n",
      "Name: Methadone, dtype: int64\n",
      "0.0    3980\n",
      "1.0     103\n",
      "Name: Amphet, dtype: int64\n",
      "0.0    3993\n",
      "1.0      90\n",
      "Name: Tramad, dtype: int64\n",
      "0    4049\n",
      "1      34\n",
      "Name: Morphine (not heroin), dtype: int64\n",
      "0    3396\n",
      "1     687\n",
      "Name: Any Opioid, dtype: int64\n"
     ]
    }
   ],
   "source": [
    "for col in yes:\n",
    "    print(df[col].value_counts())"
   ]
  },
  {
   "cell_type": "markdown",
   "metadata": {},
   "source": [
    "*If we look at the data presented above, we can see that the drugs are classified into three categories: Opioids (bear in mind most of the drugs on this list are opioids), Other Opiods, and anything other than that. So, this data prepares us to answer the question:*\n",
    "\n",
    "__1) Are opioids really the leading cause of accidental drug related deaths?__\n",
    "    *Clearly, based on the data presented, we can see that with __ALL__ opioids combined, that they truly are an epidemic causing damage to America. Now that we have this information, there can be a plethora of data that can be researched into this category.*"
   ]
  },
  {
   "cell_type": "code",
   "execution_count": 143,
   "metadata": {},
   "outputs": [
    {
     "data": {
      "text/plain": [
       "Any Opioid               0\n",
       "Oxycodone                0\n",
       "Race                     0\n",
       "Age                      0\n",
       "ImmediateCauseA          0\n",
       "Heroin                   0\n",
       "Cocaine                  0\n",
       "Fentanyl                 0\n",
       "Oxymorphone              0\n",
       "Morphine (not heroin)    0\n",
       "EtOH                     0\n",
       "Hydrocodone              0\n",
       "Benzodiazepine           0\n",
       "Methadone                0\n",
       "Amphet                   0\n",
       "Tramad                   0\n",
       "Sex                      0\n",
       "dtype: int64"
      ]
     },
     "execution_count": 143,
     "metadata": {},
     "output_type": "execute_result"
    }
   ],
   "source": [
    "df.isnull().sum().sort_values(ascending = False).head(32)"
   ]
  },
  {
   "cell_type": "code",
   "execution_count": 110,
   "metadata": {},
   "outputs": [],
   "source": [
    "df = df.drop('Other', 1)\n",
    "df = df.drop('DescriptionofInjury', 1)\n",
    "\n",
    "# Dropped data that was not necessary to answer questions"
   ]
  },
  {
   "cell_type": "code",
   "execution_count": 111,
   "metadata": {},
   "outputs": [
    {
     "data": {
      "text/html": [
       "<div>\n",
       "<style scoped>\n",
       "    .dataframe tbody tr th:only-of-type {\n",
       "        vertical-align: middle;\n",
       "    }\n",
       "\n",
       "    .dataframe tbody tr th {\n",
       "        vertical-align: top;\n",
       "    }\n",
       "\n",
       "    .dataframe thead th {\n",
       "        text-align: right;\n",
       "    }\n",
       "</style>\n",
       "<table border=\"1\" class=\"dataframe\">\n",
       "  <thead>\n",
       "    <tr style=\"text-align: right;\">\n",
       "      <th></th>\n",
       "      <th>Sex</th>\n",
       "      <th>Race</th>\n",
       "      <th>Age</th>\n",
       "      <th>ImmediateCauseA</th>\n",
       "      <th>Heroin</th>\n",
       "      <th>Cocaine</th>\n",
       "      <th>Fentanyl</th>\n",
       "      <th>Oxycodone</th>\n",
       "      <th>Oxymorphone</th>\n",
       "      <th>EtOH</th>\n",
       "      <th>Hydrocodone</th>\n",
       "      <th>Benzodiazepine</th>\n",
       "      <th>Methadone</th>\n",
       "      <th>Amphet</th>\n",
       "      <th>Tramad</th>\n",
       "      <th>Morphine (not heroin)</th>\n",
       "      <th>Any Opioid</th>\n",
       "    </tr>\n",
       "  </thead>\n",
       "  <tbody>\n",
       "    <tr>\n",
       "      <th>0</th>\n",
       "      <td>NaN</td>\n",
       "      <td>NaN</td>\n",
       "      <td>NaN</td>\n",
       "      <td>Acute fent, hydrocod, benzodiazepine</td>\n",
       "      <td>0</td>\n",
       "      <td>0</td>\n",
       "      <td>1</td>\n",
       "      <td>0</td>\n",
       "      <td>0</td>\n",
       "      <td>0</td>\n",
       "      <td>1</td>\n",
       "      <td>1</td>\n",
       "      <td>0</td>\n",
       "      <td>0.0</td>\n",
       "      <td>0.0</td>\n",
       "      <td>0</td>\n",
       "      <td>0</td>\n",
       "    </tr>\n",
       "    <tr>\n",
       "      <th>1</th>\n",
       "      <td>Male</td>\n",
       "      <td>White</td>\n",
       "      <td>45.0</td>\n",
       "      <td>Fentanyl Intoxication</td>\n",
       "      <td>0</td>\n",
       "      <td>0</td>\n",
       "      <td>1</td>\n",
       "      <td>0</td>\n",
       "      <td>0</td>\n",
       "      <td>0</td>\n",
       "      <td>0</td>\n",
       "      <td>0</td>\n",
       "      <td>0</td>\n",
       "      <td>0.0</td>\n",
       "      <td>0.0</td>\n",
       "      <td>0</td>\n",
       "      <td>0</td>\n",
       "    </tr>\n",
       "    <tr>\n",
       "      <th>2</th>\n",
       "      <td>Male</td>\n",
       "      <td>White</td>\n",
       "      <td>30.0</td>\n",
       "      <td>Methadone and Cocaine Intoxication</td>\n",
       "      <td>0</td>\n",
       "      <td>1</td>\n",
       "      <td>0</td>\n",
       "      <td>0</td>\n",
       "      <td>0</td>\n",
       "      <td>0</td>\n",
       "      <td>0</td>\n",
       "      <td>0</td>\n",
       "      <td>1</td>\n",
       "      <td>0.0</td>\n",
       "      <td>0.0</td>\n",
       "      <td>0</td>\n",
       "      <td>0</td>\n",
       "    </tr>\n",
       "    <tr>\n",
       "      <th>3</th>\n",
       "      <td>Male</td>\n",
       "      <td>White</td>\n",
       "      <td>27.0</td>\n",
       "      <td>Intoxication due to the combined effects of Ox...</td>\n",
       "      <td>0</td>\n",
       "      <td>0</td>\n",
       "      <td>0</td>\n",
       "      <td>1</td>\n",
       "      <td>1</td>\n",
       "      <td>0</td>\n",
       "      <td>0</td>\n",
       "      <td>0</td>\n",
       "      <td>0</td>\n",
       "      <td>0.0</td>\n",
       "      <td>0.0</td>\n",
       "      <td>0</td>\n",
       "      <td>0</td>\n",
       "    </tr>\n",
       "    <tr>\n",
       "      <th>4</th>\n",
       "      <td>Male</td>\n",
       "      <td>White</td>\n",
       "      <td>21.0</td>\n",
       "      <td>Multiple Drug Toxicity</td>\n",
       "      <td>1</td>\n",
       "      <td>0</td>\n",
       "      <td>0</td>\n",
       "      <td>0</td>\n",
       "      <td>0</td>\n",
       "      <td>0</td>\n",
       "      <td>0</td>\n",
       "      <td>0</td>\n",
       "      <td>0</td>\n",
       "      <td>0.0</td>\n",
       "      <td>0.0</td>\n",
       "      <td>0</td>\n",
       "      <td>0</td>\n",
       "    </tr>\n",
       "  </tbody>\n",
       "</table>\n",
       "</div>"
      ],
      "text/plain": [
       "    Sex   Race   Age                                    ImmediateCauseA  \\\n",
       "0   NaN    NaN   NaN               Acute fent, hydrocod, benzodiazepine   \n",
       "1  Male  White  45.0                              Fentanyl Intoxication   \n",
       "2  Male  White  30.0                 Methadone and Cocaine Intoxication   \n",
       "3  Male  White  27.0  Intoxication due to the combined effects of Ox...   \n",
       "4  Male  White  21.0                             Multiple Drug Toxicity   \n",
       "\n",
       "   Heroin  Cocaine  Fentanyl  Oxycodone  Oxymorphone  EtOH  Hydrocodone  \\\n",
       "0       0        0         1          0            0     0            1   \n",
       "1       0        0         1          0            0     0            0   \n",
       "2       0        1         0          0            0     0            0   \n",
       "3       0        0         0          1            1     0            0   \n",
       "4       1        0         0          0            0     0            0   \n",
       "\n",
       "   Benzodiazepine  Methadone  Amphet  Tramad  Morphine (not heroin)  \\\n",
       "0               1          0     0.0     0.0                      0   \n",
       "1               0          0     0.0     0.0                      0   \n",
       "2               0          1     0.0     0.0                      0   \n",
       "3               0          0     0.0     0.0                      0   \n",
       "4               0          0     0.0     0.0                      0   \n",
       "\n",
       "   Any Opioid  \n",
       "0           0  \n",
       "1           0  \n",
       "2           0  \n",
       "3           0  \n",
       "4           0  "
      ]
     },
     "execution_count": 111,
     "metadata": {},
     "output_type": "execute_result"
    }
   ],
   "source": [
    "df.head()"
   ]
  },
  {
   "cell_type": "code",
   "execution_count": 116,
   "metadata": {},
   "outputs": [],
   "source": [
    "df = df.dropna()"
   ]
  },
  {
   "cell_type": "code",
   "execution_count": 117,
   "metadata": {},
   "outputs": [
    {
     "data": {
      "text/plain": [
       "Any Opioid               0\n",
       "Oxycodone                0\n",
       "Race                     0\n",
       "Age                      0\n",
       "ImmediateCauseA          0\n",
       "Heroin                   0\n",
       "Cocaine                  0\n",
       "Fentanyl                 0\n",
       "Oxymorphone              0\n",
       "Morphine (not heroin)    0\n",
       "EtOH                     0\n",
       "Hydrocodone              0\n",
       "Benzodiazepine           0\n",
       "Methadone                0\n",
       "Amphet                   0\n",
       "Tramad                   0\n",
       "Sex                      0\n",
       "dtype: int64"
      ]
     },
     "execution_count": 117,
     "metadata": {},
     "output_type": "execute_result"
    }
   ],
   "source": [
    "df.isnull().sum().sort_values(ascending = False).head(32)"
   ]
  },
  {
   "cell_type": "code",
   "execution_count": 121,
   "metadata": {},
   "outputs": [
    {
     "data": {
      "text/html": [
       "<div>\n",
       "<style scoped>\n",
       "    .dataframe tbody tr th:only-of-type {\n",
       "        vertical-align: middle;\n",
       "    }\n",
       "\n",
       "    .dataframe tbody tr th {\n",
       "        vertical-align: top;\n",
       "    }\n",
       "\n",
       "    .dataframe thead th {\n",
       "        text-align: right;\n",
       "    }\n",
       "</style>\n",
       "<table border=\"1\" class=\"dataframe\">\n",
       "  <thead>\n",
       "    <tr style=\"text-align: right;\">\n",
       "      <th></th>\n",
       "      <th>Age</th>\n",
       "      <th>Heroin</th>\n",
       "      <th>Cocaine</th>\n",
       "      <th>Fentanyl</th>\n",
       "      <th>Oxycodone</th>\n",
       "      <th>Oxymorphone</th>\n",
       "      <th>EtOH</th>\n",
       "      <th>Hydrocodone</th>\n",
       "      <th>Benzodiazepine</th>\n",
       "      <th>Methadone</th>\n",
       "      <th>Amphet</th>\n",
       "      <th>Tramad</th>\n",
       "      <th>Morphine (not heroin)</th>\n",
       "      <th>Any Opioid</th>\n",
       "    </tr>\n",
       "  </thead>\n",
       "  <tbody>\n",
       "    <tr>\n",
       "      <th>count</th>\n",
       "      <td>4069.000000</td>\n",
       "      <td>4069.000000</td>\n",
       "      <td>4069.000000</td>\n",
       "      <td>4069.000000</td>\n",
       "      <td>4069.000000</td>\n",
       "      <td>4069.000000</td>\n",
       "      <td>4069.000000</td>\n",
       "      <td>4069.000000</td>\n",
       "      <td>4069.000000</td>\n",
       "      <td>4069.000000</td>\n",
       "      <td>4069.000000</td>\n",
       "      <td>4069.000000</td>\n",
       "      <td>4069.000000</td>\n",
       "      <td>4069.000000</td>\n",
       "    </tr>\n",
       "    <tr>\n",
       "      <th>mean</th>\n",
       "      <td>41.732367</td>\n",
       "      <td>0.527157</td>\n",
       "      <td>0.287540</td>\n",
       "      <td>0.358565</td>\n",
       "      <td>0.133448</td>\n",
       "      <td>0.023347</td>\n",
       "      <td>0.241828</td>\n",
       "      <td>0.025068</td>\n",
       "      <td>0.263210</td>\n",
       "      <td>0.094372</td>\n",
       "      <td>0.025313</td>\n",
       "      <td>0.022118</td>\n",
       "      <td>0.008356</td>\n",
       "      <td>0.168592</td>\n",
       "    </tr>\n",
       "    <tr>\n",
       "      <th>std</th>\n",
       "      <td>12.310706</td>\n",
       "      <td>0.499323</td>\n",
       "      <td>0.452671</td>\n",
       "      <td>0.479638</td>\n",
       "      <td>0.340100</td>\n",
       "      <td>0.151022</td>\n",
       "      <td>0.428244</td>\n",
       "      <td>0.156350</td>\n",
       "      <td>0.440429</td>\n",
       "      <td>0.292382</td>\n",
       "      <td>0.157094</td>\n",
       "      <td>0.147087</td>\n",
       "      <td>0.091039</td>\n",
       "      <td>0.374437</td>\n",
       "    </tr>\n",
       "    <tr>\n",
       "      <th>min</th>\n",
       "      <td>14.000000</td>\n",
       "      <td>0.000000</td>\n",
       "      <td>0.000000</td>\n",
       "      <td>0.000000</td>\n",
       "      <td>0.000000</td>\n",
       "      <td>0.000000</td>\n",
       "      <td>0.000000</td>\n",
       "      <td>0.000000</td>\n",
       "      <td>0.000000</td>\n",
       "      <td>0.000000</td>\n",
       "      <td>0.000000</td>\n",
       "      <td>0.000000</td>\n",
       "      <td>0.000000</td>\n",
       "      <td>0.000000</td>\n",
       "    </tr>\n",
       "    <tr>\n",
       "      <th>25%</th>\n",
       "      <td>31.000000</td>\n",
       "      <td>0.000000</td>\n",
       "      <td>0.000000</td>\n",
       "      <td>0.000000</td>\n",
       "      <td>0.000000</td>\n",
       "      <td>0.000000</td>\n",
       "      <td>0.000000</td>\n",
       "      <td>0.000000</td>\n",
       "      <td>0.000000</td>\n",
       "      <td>0.000000</td>\n",
       "      <td>0.000000</td>\n",
       "      <td>0.000000</td>\n",
       "      <td>0.000000</td>\n",
       "      <td>0.000000</td>\n",
       "    </tr>\n",
       "    <tr>\n",
       "      <th>50%</th>\n",
       "      <td>42.000000</td>\n",
       "      <td>1.000000</td>\n",
       "      <td>0.000000</td>\n",
       "      <td>0.000000</td>\n",
       "      <td>0.000000</td>\n",
       "      <td>0.000000</td>\n",
       "      <td>0.000000</td>\n",
       "      <td>0.000000</td>\n",
       "      <td>0.000000</td>\n",
       "      <td>0.000000</td>\n",
       "      <td>0.000000</td>\n",
       "      <td>0.000000</td>\n",
       "      <td>0.000000</td>\n",
       "      <td>0.000000</td>\n",
       "    </tr>\n",
       "    <tr>\n",
       "      <th>75%</th>\n",
       "      <td>51.000000</td>\n",
       "      <td>1.000000</td>\n",
       "      <td>1.000000</td>\n",
       "      <td>1.000000</td>\n",
       "      <td>0.000000</td>\n",
       "      <td>0.000000</td>\n",
       "      <td>0.000000</td>\n",
       "      <td>0.000000</td>\n",
       "      <td>1.000000</td>\n",
       "      <td>0.000000</td>\n",
       "      <td>0.000000</td>\n",
       "      <td>0.000000</td>\n",
       "      <td>0.000000</td>\n",
       "      <td>0.000000</td>\n",
       "    </tr>\n",
       "    <tr>\n",
       "      <th>max</th>\n",
       "      <td>87.000000</td>\n",
       "      <td>1.000000</td>\n",
       "      <td>1.000000</td>\n",
       "      <td>1.000000</td>\n",
       "      <td>1.000000</td>\n",
       "      <td>1.000000</td>\n",
       "      <td>1.000000</td>\n",
       "      <td>1.000000</td>\n",
       "      <td>1.000000</td>\n",
       "      <td>1.000000</td>\n",
       "      <td>1.000000</td>\n",
       "      <td>1.000000</td>\n",
       "      <td>1.000000</td>\n",
       "      <td>1.000000</td>\n",
       "    </tr>\n",
       "  </tbody>\n",
       "</table>\n",
       "</div>"
      ],
      "text/plain": [
       "               Age       Heroin      Cocaine     Fentanyl    Oxycodone  \\\n",
       "count  4069.000000  4069.000000  4069.000000  4069.000000  4069.000000   \n",
       "mean     41.732367     0.527157     0.287540     0.358565     0.133448   \n",
       "std      12.310706     0.499323     0.452671     0.479638     0.340100   \n",
       "min      14.000000     0.000000     0.000000     0.000000     0.000000   \n",
       "25%      31.000000     0.000000     0.000000     0.000000     0.000000   \n",
       "50%      42.000000     1.000000     0.000000     0.000000     0.000000   \n",
       "75%      51.000000     1.000000     1.000000     1.000000     0.000000   \n",
       "max      87.000000     1.000000     1.000000     1.000000     1.000000   \n",
       "\n",
       "       Oxymorphone         EtOH  Hydrocodone  Benzodiazepine    Methadone  \\\n",
       "count  4069.000000  4069.000000  4069.000000     4069.000000  4069.000000   \n",
       "mean      0.023347     0.241828     0.025068        0.263210     0.094372   \n",
       "std       0.151022     0.428244     0.156350        0.440429     0.292382   \n",
       "min       0.000000     0.000000     0.000000        0.000000     0.000000   \n",
       "25%       0.000000     0.000000     0.000000        0.000000     0.000000   \n",
       "50%       0.000000     0.000000     0.000000        0.000000     0.000000   \n",
       "75%       0.000000     0.000000     0.000000        1.000000     0.000000   \n",
       "max       1.000000     1.000000     1.000000        1.000000     1.000000   \n",
       "\n",
       "            Amphet       Tramad  Morphine (not heroin)   Any Opioid  \n",
       "count  4069.000000  4069.000000            4069.000000  4069.000000  \n",
       "mean      0.025313     0.022118               0.008356     0.168592  \n",
       "std       0.157094     0.147087               0.091039     0.374437  \n",
       "min       0.000000     0.000000               0.000000     0.000000  \n",
       "25%       0.000000     0.000000               0.000000     0.000000  \n",
       "50%       0.000000     0.000000               0.000000     0.000000  \n",
       "75%       0.000000     0.000000               0.000000     0.000000  \n",
       "max       1.000000     1.000000               1.000000     1.000000  "
      ]
     },
     "execution_count": 121,
     "metadata": {},
     "output_type": "execute_result"
    }
   ],
   "source": [
    "df.describe()"
   ]
  },
  {
   "cell_type": "code",
   "execution_count": 123,
   "metadata": {},
   "outputs": [
    {
     "data": {
      "text/plain": [
       "White                     3243\n",
       "Hispanic, White            430\n",
       "Black                      329\n",
       "Hispanic, Black             17\n",
       "Unknown                     16\n",
       "Asian, Other                14\n",
       "Asian Indian                 9\n",
       "Other                        7\n",
       "Chinese                      2\n",
       "Native American, Other       1\n",
       "Hawaiian                     1\n",
       "Name: Race, dtype: int64"
      ]
     },
     "execution_count": 123,
     "metadata": {},
     "output_type": "execute_result"
    }
   ],
   "source": [
    "df[\"Race\"].value_counts()"
   ]
  },
  {
   "cell_type": "code",
   "execution_count": 127,
   "metadata": {},
   "outputs": [
    {
     "data": {
      "text/plain": [
       "<matplotlib.axes._subplots.AxesSubplot at 0x27275cd8390>"
      ]
     },
     "execution_count": 127,
     "metadata": {},
     "output_type": "execute_result"
    },
    {
     "data": {
      "image/png": "[encoded data removed]",
      "text/plain": [
       "<Figure size 1440x576 with 1 Axes>"
      ]
     },
     "metadata": {},
     "output_type": "display_data"
    }
   ],
   "source": [
    "df.boxplot(column = 'Age', by = \"Race\", figsize = (20,8))"
   ]
  },
  {
   "cell_type": "code",
   "execution_count": 136,
   "metadata": {},
   "outputs": [
    {
     "data": {
      "text/plain": [
       "<BarContainer object of 1 artists>"
      ]
     },
     "execution_count": 136,
     "metadata": {},
     "output_type": "execute_result"
    },
    {
     "data": {
      "image/png": "[encoded data removed]",
      "text/plain": [
       "<Figure size 432x288 with 1 Axes>"
      ]
     },
     "metadata": {},
     "output_type": "display_data"
    }
   ],
   "source": [
    "plt.bar('Male',len(df[df['Sex'] == 'Male']))\n",
    "plt.bar('Female',len(df[df['Sex'] == 'Female']))"
   ]
  },
  {
   "cell_type": "code",
   "execution_count": 132,
   "metadata": {},
   "outputs": [
    {
     "data": {
      "text/plain": [
       "Male      2988\n",
       "Female    1081\n",
       "Name: Sex, dtype: int64"
      ]
     },
     "execution_count": 132,
     "metadata": {},
     "output_type": "execute_result"
    }
   ],
   "source": [
    "df['Sex'].value_counts()"
   ]
  },
  {
   "cell_type": "markdown",
   "metadata": {},
   "source": [
    "__2) What ethnicity is more likely to have an accidental drug related death?__\n",
    "\n",
    "    a.    What is the gender that tends to abuse drugs?\n",
    "\n",
    "    b.    What are the age variances of the individuals more likely to have an accidental drug related death?\n",
    "    \n",
    "*Based on the data provided, we can see the largest ethnicity is an \"unknown\" factor. Since there is nothing that can be derived from this, we must toss that information out and move on to the next set.*\n",
    "\n",
    "*What we see is that the two ethnicities that tend to have accidental drug related deaths would be: White & Black/Hispanic. the interesting part of all this data is that there is no single race that is immune to the effects of abusing drugs. Furthermore, the majority of the races are so closely related statistically in deaths that it can be assumed that one races is __Significantly__ more likley to abuse narcotics.*\n",
    "\n",
    "*The biggest surprise and the most interesting part of all of this, is the gender gap. Males have almost tripled in death rates in comparison to females.*\n",
    "\n",
    "*What we can also derive from this information is that the age range more likely to have an accidental drug realted accident is between the ages of 30-50. Specifcally speaking, the median age of __41.7 (42)__. To further dissect this information, we know the youngest person to have an accidental drug related death __(14)__, the oldest __(87)__ and the median age __(41.7)__.*\n",
    "\n",
    "*What we have found thus far, is that males of the age of 42 (more than likely white or black/hispanic) will tend to have an accidental drug related death.*"
   ]
  },
  {
   "cell_type": "markdown",
   "metadata": {},
   "source": [
    "*So, now we have a set of data that we can derive our answers from to determine the following:*\n",
    "\n",
    "__3)\tDue to the crisis revolving around opioid’s, what is the likelihood someone will have an accidental drug related death regarding opioids in comparison to other deadly narcotics, such as heroin?__\n",
    "\n",
    "*Based on everything that is presented and dissected from the data, we can determine that the likelihood of having an accidental drug related death compared to any other is significantly higher. Furthermore, with everything being looked into, we have determined that opioid's are the leading cause of accidental drug related deaths along with the specific age group, gender, and race.*"
   ]
  },
  {
   "cell_type": "markdown",
   "metadata": {},
   "source": [
    "Based on the information derived from this dataset, I would like to see more research as to what opioid is being abused the most and in what capacity? Are the opioids being bought and abused illegally or are they being prescribed? Depending on the data derived from these answers, I would anticipate more questions be asked to allow us to further delve deeper into this issue. Perhaps there might be some clarity to be gained from digging into all of the information discovered. "
   ]
  },
  {
   "cell_type": "markdown",
   "metadata": {},
   "source": [
    "__References__\n",
    "\n",
    "CDC (2018). U.S. Drug overdose deaths continue to rise; increase fueled by synthetic opioids.  Retrieved from https://www.cdc.gov/media/releases/2018/p0329-drug-overdose-deaths.html"
   ]
  },
  {
   "cell_type": "code",
   "execution_count": null,
   "metadata": {},
   "outputs": [],
   "source": []
  }
 ],
 "metadata": {
  "kernelspec": {
   "display_name": "Python 3",
   "language": "python",
   "name": "python3"
  },
  "language_info": {
   "codemirror_mode": {
    "name": "ipython",
    "version": 3
   },
   "file_extension": ".py",
   "mimetype": "text/x-python",
   "name": "python",
   "nbconvert_exporter": "python",
   "pygments_lexer": "ipython3",
   "version": "3.6.5"
  }
 },
 "nbformat": 4,
 "nbformat_minor": 2
}
