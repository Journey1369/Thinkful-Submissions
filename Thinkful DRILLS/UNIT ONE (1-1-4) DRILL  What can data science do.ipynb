{
 "cells": [
  {
   "cell_type": "markdown",
   "metadata": {},
   "source": [
    "__*1)* You work at an e-commerce company that sells three goods: widgets, doodads, and fizzbangs. The head of advertising asks you which they should feature in their new advertising campaign. You have data on individual visitors' sessions (activity on a website, pageviews, and purchases), as well as whether or not those users converted from an advertisement for that session. You also have the cost and price information for the goods.__\n",
    "\n",
    "*The first thing that must be done is to gather information on the visitors and discover the \"why, what, and when\". Based on this information, we can then extrapolate the data further to disect the questions for answers. Essentially, the main question is \"What is going to be my greatest __ROI__.\"*\n",
    "\n",
    "*Taking the data from the visitor sessions and how they got there (advertisement, their own, etc) will help me fine tune my data for what the executive wants for his advertising campaign.*\n",
    "\n",
    "*I would use the data to determine the greatest __ROI__ based on sessions from visitors and how they got there.*"
   ]
  },
  {
   "cell_type": "markdown",
   "metadata": {},
   "source": [
    "__*2)* You work at a web design company that offers to build websites for clients. Signups have slowed, and you are tasked with finding out why. The onboarding funnel has three steps: email and password signup, plan choice, and payment. On a user level you have information on what steps they have completed as well as timestamps for all of those events for the past 3 years. You also have information on marketing spend on a weekly level.__\n",
    "\n",
    "*I would have to know what the advertising budget is and where they are advertising. Once I have that data, i can then determine the next steps. As far as the drop off on sighnups (that do not correlate to advertising budget), I would use the data (time stamps, steps, and anything else that is pertinent) to determine __WHY__ signs ups have dropped off. Timing out could be an issue, user friendliness could be a problem, or perhaps even technical issues.*"
   ]
  },
  {
   "cell_type": "markdown",
   "metadata": {},
   "source": [
    "__*3)* You work at a hotel website and currently the website ranks search results by price. For simplicity's sake, let's say it's a website for one city with 100 hotels. You are tasked with proposing a better ranking system. You have session information, price information for the hotels, and whether each hotel is currently available.__\n",
    "\n",
    "*I would have to know more about \"session information\" to go extremely deep. My ranking system would be user friendly. I would have multiple ways to set up a rank query for the user for better specifics. We could look into price, availability, star rating, ammenitites, and reviews. I would have a it ranked by reviews and price by default.*"
   ]
  },
  {
   "cell_type": "markdown",
   "metadata": {},
   "source": [
    "__*4)* You work at a social network, and the management is worried about churn (users stopping using the product). You are tasked with finding out if their churn is atypical. You have three years of data for users with an entry for every time they've logged in, including the timestamp and length of session.__\n",
    "\n",
    "*I would look for trends in the past 3 years to see if anything correlates to churn. I would narrow it down to specifics and then see if it is something that can be corrected, if it is across all platforms in the social media space, or any other variations. Essentially, I would find something out of the norm in order for us be able to penetrate the data to prevent churn.*"
   ]
  },
  {
   "cell_type": "code",
   "execution_count": null,
   "metadata": {},
   "outputs": [],
   "source": []
  }
 ],
 "metadata": {
  "kernelspec": {
   "display_name": "Python 3",
   "language": "python",
   "name": "python3"
  },
  "language_info": {
   "codemirror_mode": {
    "name": "ipython",
    "version": 3
   },
   "file_extension": ".py",
   "mimetype": "text/x-python",
   "name": "python",
   "nbconvert_exporter": "python",
   "pygments_lexer": "ipython3",
   "version": "3.6.5"
  }
 },
 "nbformat": 4,
 "nbformat_minor": 2
}
